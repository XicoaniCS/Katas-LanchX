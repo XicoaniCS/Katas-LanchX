{
 "cells": [
  {
   "cell_type": "markdown",
   "metadata": {},
   "source": [
    "Ejercicio advertencia de asteroide"
   ]
  },
  {
   "cell_type": "code",
   "execution_count": 5,
   "metadata": {},
   "outputs": [
    {
     "name": "stdout",
     "output_type": "stream",
     "text": [
      "Warning! An asteroid is approches the earth with a speed greater than 25 km/s\n"
     ]
    }
   ],
   "source": [
    "velo_ast = 49\n",
    "if velo_ast > 25:\n",
    "    print(\"Warning! An asteroid is approches the earth with a speed greater than 25 km/s\")\n",
    "else:\n",
    "    print(\"Asteroid speed is below 25 km/s, no risk. Have a nice day :)\")\n"
   ]
  },
  {
   "cell_type": "markdown",
   "metadata": {},
   "source": [
    "Ejercicio rayo de luz "
   ]
  },
  {
   "cell_type": "code",
   "execution_count": 9,
   "metadata": {},
   "outputs": [
    {
     "name": "stdout",
     "output_type": "stream",
     "text": [
      "Look at the sky! There are beautiful stars, but nothing more today :c\n"
     ]
    }
   ],
   "source": [
    "velo_ast = 19 \n",
    "if velo_ast >= 20:\n",
    "    print(\"Look at the sky! There's a beautiful light in it!\")\n",
    "else:\n",
    "    print(\"Look at the sky! There are beautiful stars, but nothing more today :c\")"
   ]
  },
  {
   "cell_type": "markdown",
   "metadata": {},
   "source": [
    "Ejercicio 3(Mejorar nombre del ejercicio xd)"
   ]
  },
  {
   "cell_type": "code",
   "execution_count": 11,
   "metadata": {},
   "outputs": [
    {
     "name": "stdout",
     "output_type": "stream",
     "text": [
      "Warning! An asteroid bigger than 25m approches the eart with a speed greater than 25km/s. Evacuate area of possible impact\n"
     ]
    }
   ],
   "source": [
    "velo_ast = 30\n",
    "tam_ast = 75\n",
    "if velo_ast > 25 and tam_ast > 25:\n",
    "    print(\"Warning! An asteroid bigger than 25m approches the eart with a speed greater than 25km/s. Evacuate area of possible impact\")\n",
    "elif velo_ast > 25 and tam_ast < 25:\n",
    "    print(\"Warning! An asteroid is approches the earth with a speed greater than 25 km/s\")\n",
    "elif velo_ast >= 20:\n",
    "    print(\"Look at the sky! There's a beautiful light in it!\")\n",
    "else:\n",
    "    print(\"nothing out of the ordinary happening today\")\n"
   ]
  }
 ],
 "metadata": {
  "interpreter": {
   "hash": "79428a0a442058f2331ddabb77caf7d8183e3abcbe92ab12082e698cba8d5ad8"
  },
  "kernelspec": {
   "display_name": "Python 3.10.0 64-bit",
   "language": "python",
   "name": "python3"
  },
  "language_info": {
   "codemirror_mode": {
    "name": "ipython",
    "version": 3
   },
   "file_extension": ".py",
   "mimetype": "text/x-python",
   "name": "python",
   "nbconvert_exporter": "python",
   "pygments_lexer": "ipython3",
   "version": "3.10.0"
  },
  "orig_nbformat": 4
 },
 "nbformat": 4,
 "nbformat_minor": 2
}
