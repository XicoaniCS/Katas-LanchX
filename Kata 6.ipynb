{
 "cells": [
  {
   "cell_type": "markdown",
   "metadata": {},
   "source": [
    "Cóigo para considerar a Plutón un planeta :)"
   ]
  },
  {
   "cell_type": "code",
   "execution_count": 10,
   "metadata": {},
   "outputs": [
    {
     "name": "stdout",
     "output_type": "stream",
     "text": [
      "There are 8 planets\n",
      "Pluto is the last planet\n"
     ]
    }
   ],
   "source": [
    "planets = [\"Mercury\",\"Venus\",\"Earth\",\"Mars\",\"Jupiter\",\"Saturn\",\"Uranus\",\"Neptune\"]\n",
    "print(\"There are\",len(planets),\"planets\")\n",
    "\n",
    "planets.append('Pluto')\n",
    "\n",
    "print(planets[-1], 'is the last planet')"
   ]
  },
  {
   "cell_type": "markdown",
   "metadata": {},
   "source": [
    "Programa selección de planetas"
   ]
  },
  {
   "cell_type": "code",
   "execution_count": 25,
   "metadata": {},
   "outputs": [
    {
     "name": "stdout",
     "output_type": "stream",
     "text": [
      "Here are the planets closer than Mars\n",
      "['Mercury', 'Venus', 'Earth']\n",
      "Here are the planets further than Mars\n",
      "['Jupiter', 'Saturn', 'Neptune']\n"
     ]
    }
   ],
   "source": [
    "planets = ['Mercury', 'Venus', 'Earth', 'Mars', 'Jupiter', 'Saturn', 'Neptune']\n",
    "elec_plan = input(\"Type the name of a planet (Please, put the first letter in mayusc)\")\n",
    "lista_pla = planets.index(elec_plan)\n",
    "\n",
    "if elec_plan == 'Mercury':\n",
    "    print(\"Dosn't exist a planet colser than \" + elec_plan)\n",
    "    print(\"Here are the planets further than\" , elec_plan , \":\" , planets[lista_pla + 1:])\n",
    "\n",
    "elif elec_plan == 'Neptune':\n",
    "    print(\"Dosn't exist a planet further than \" , elec_plan ,\"(Exept if we consider Pluto)\")  \n",
    "    print(\"Here are the planets closer than\" , elec_plan , \":\" , planets[0:lista_pla])   \n",
    "\n",
    "else:\n",
    "    print(\"Here are the planets closer than \" + elec_plan)\n",
    "    print(planets[0:lista_pla])    \n",
    "    print(\"Here are the planets further than \" + elec_plan)\n",
    "    print(planets[lista_pla + 1:])"
   ]
  }
 ],
 "metadata": {
  "interpreter": {
   "hash": "79428a0a442058f2331ddabb77caf7d8183e3abcbe92ab12082e698cba8d5ad8"
  },
  "kernelspec": {
   "display_name": "Python 3.10.0 64-bit",
   "language": "python",
   "name": "python3"
  },
  "language_info": {
   "codemirror_mode": {
    "name": "ipython",
    "version": 3
   },
   "file_extension": ".py",
   "mimetype": "text/x-python",
   "name": "python",
   "nbconvert_exporter": "python",
   "pygments_lexer": "ipython3",
   "version": "3.10.2"
  },
  "orig_nbformat": 4
 },
 "nbformat": 4,
 "nbformat_minor": 2
}
