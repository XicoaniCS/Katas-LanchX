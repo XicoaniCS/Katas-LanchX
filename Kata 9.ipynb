{
 "cells": [
  {
   "cell_type": "markdown",
   "metadata": {},
   "source": [
    "Informe de combustible"
   ]
  },
  {
   "cell_type": "code",
   "execution_count": 4,
   "metadata": {},
   "outputs": [
    {
     "name": "stdout",
     "output_type": "stream",
     "text": [
      "Fuel report:\"\n",
      "    Total avarege: 73.0%\n",
      "    Principal tank: 89%\n",
      "    Second tank: 70%\n",
      "    Emergency tank: 60%\n",
      "    \n",
      "Fuel report:\n",
      "    Total avarege: 81.66666666666667\n",
      "    Principal tank: 86%\n",
      "    Secon tank: 89%\n",
      "    Emergency tank: 70%\n",
      "    \n"
     ]
    }
   ],
   "source": [
    "def reporte_gas(prem_tank,deux_tank,trois_tank):\n",
    "    promedio = (prem_tank + deux_tank + trois_tank) / 3\n",
    "    return f\"\"\"Fuel report:\"\n",
    "    Total avarege: {promedio}%\n",
    "    Principal tank: {prem_tank}%\n",
    "    Second tank: {deux_tank}%\n",
    "    Emergency tank: {trois_tank}%\n",
    "    \"\"\"\n",
    "\n",
    "print(reporte_gas(89,70,60))\n",
    "\n",
    "def prom(values):\n",
    "    total = sum(values)\n",
    "    number_of_items = len(values)\n",
    "    return total / number_of_items\n",
    "\n",
    "prom([80,85,81])\n",
    "\n",
    "def reporte_gas(prem_tank,deux_tank,trois_tank):\n",
    "    return f\"\"\"Fuel report:\n",
    "    Total avarege: {prom([prem_tank, deux_tank, trois_tank])}\n",
    "    Principal tank: {prem_tank}%\n",
    "    Secon tank: {deux_tank}%\n",
    "    Emergency tank: {trois_tank}%\n",
    "    \"\"\"\n",
    "\n",
    "print(reporte_gas(86,89,70))"
   ]
  },
  {
   "cell_type": "markdown",
   "metadata": {},
   "source": [
    "Informe de cohete"
   ]
  },
  {
   "cell_type": "code",
   "execution_count": 5,
   "metadata": {},
   "outputs": [
    {
     "name": "stdout",
     "output_type": "stream",
     "text": [
      "\n",
      "    Travel to Moon\n",
      "    Total time travel: 65 minutes \n",
      "    Total fuel to the trip: 50000 gallons\n",
      "    \n",
      "\n",
      "    Travel to Moon\n",
      "    Total time travel: 76 minutes\n",
      "    Total fuel left: 50000\n",
      "    \n",
      "\n",
      "    Travel to Moon\n",
      "    Total time travel: 74 minutes\n",
      "    Total fuel left: 50000\n",
      "    main --> tank 30000 gallons left\n",
      "external --> tank 20000 gallons left\n",
      "\n"
     ]
    }
   ],
   "source": [
    "def general_report(pre_launch, travel_time, destination, extermal_tank, internal_tank):\n",
    "    return f\"\"\"\n",
    "    Travel to {destination}\n",
    "    Total time travel: {pre_launch + travel_time} minutes \n",
    "    Total fuel to the trip: {extermal_tank + internal_tank} gallons\n",
    "    \"\"\"\n",
    "print(general_report(14,51,\"Moon\",20000,30000))\n",
    "\n",
    "def general_report(destination, *minutes, **fuel_reservoirs):\n",
    "    return f\"\"\"\n",
    "    Travel to {destination}\n",
    "    Total time travel: {sum(minutes)} minutes\n",
    "    Total fuel left: {sum(fuel_reservoirs.values())}\n",
    "    \"\"\"\n",
    "print(general_report(\"Moon\", 10, 15, 51, main=30000, external=20000))\n",
    "\n",
    "def general_report(destination, *minutes, **fuel_reservoirs):\n",
    "    main_report = f\"\"\"\n",
    "    Travel to {destination}\n",
    "    Total time travel: {sum(minutes)} minutes\n",
    "    Total fuel left: {sum(fuel_reservoirs.values())}\n",
    "    \"\"\"\n",
    "    for tank_name, gallons in fuel_reservoirs.items():\n",
    "        main_report += f\"{tank_name} --> tank {gallons} gallons left\\n\"\n",
    "    return main_report\n",
    "\n",
    "print(general_report(\"Moon\", 8, 11, 55, main=30000, external=20000))\n"
   ]
  }
 ],
 "metadata": {
  "interpreter": {
   "hash": "79428a0a442058f2331ddabb77caf7d8183e3abcbe92ab12082e698cba8d5ad8"
  },
  "kernelspec": {
   "display_name": "Python 3.10.2 64-bit",
   "language": "python",
   "name": "python3"
  },
  "language_info": {
   "codemirror_mode": {
    "name": "ipython",
    "version": 3
   },
   "file_extension": ".py",
   "mimetype": "text/x-python",
   "name": "python",
   "nbconvert_exporter": "python",
   "pygments_lexer": "ipython3",
   "version": "3.10.2"
  },
  "orig_nbformat": 4
 },
 "nbformat": 4,
 "nbformat_minor": 2
}
