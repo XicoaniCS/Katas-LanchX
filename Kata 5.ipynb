{
 "cells": [
  {
   "cell_type": "markdown",
   "metadata": {},
   "source": [
    "Calcular distancia entre Jupiter y la Tierra"
   ]
  },
  {
   "cell_type": "code",
   "execution_count": 10,
   "metadata": {},
   "outputs": [
    {
     "name": "stdout",
     "output_type": "stream",
     "text": [
      "The distance between both planets is: 628949330 kilometers or: 390577533.93 miles\n"
     ]
    }
   ],
   "source": [
    "Tierra = 149597870 \n",
    "Júpiter = 778547200\n",
    "\n",
    "Distancia_km =  Tierra - Júpiter\n",
    "Distancia_ms = Distancia_km * 0.621\n",
    "\n",
    "print(\"The distance between both planets is:\",abs(Distancia_km),\"kilometers or:\",abs(Distancia_ms),\"miles\")"
   ]
  },
  {
   "cell_type": "markdown",
   "metadata": {},
   "source": [
    "Ejercicio 2"
   ]
  },
  {
   "cell_type": "code",
   "execution_count": 11,
   "metadata": {},
   "outputs": [
    {
     "name": "stdout",
     "output_type": "stream",
     "text": [
      "The distance between both planets is: 1375600000 kilometers or: 854247600.0 miles\n"
     ]
    }
   ],
   "source": [
    "prim_pla = input(\"introuce the distance between the sun and the firs planet:\")\n",
    "seg_pla = input(\"Introduce the distance between the sun and the second planet:\")\n",
    "\n",
    "prim_pla = int(prim_pla)\n",
    "seg_pla = int(seg_pla)\n",
    "\n",
    "Distancia_km = prim_pla - seg_pla\n",
    "Distancia_ms = Distancia_km * 0.621\n",
    "\n",
    "print(\"The distance between both planets is:\",abs(Distancia_km),\"kilometers or:\",abs(Distancia_ms),\"miles\")"
   ]
  }
 ],
 "metadata": {
  "interpreter": {
   "hash": "79428a0a442058f2331ddabb77caf7d8183e3abcbe92ab12082e698cba8d5ad8"
  },
  "kernelspec": {
   "display_name": "Python 3.10.0 64-bit",
   "language": "python",
   "name": "python3"
  },
  "language_info": {
   "codemirror_mode": {
    "name": "ipython",
    "version": 3
   },
   "file_extension": ".py",
   "mimetype": "text/x-python",
   "name": "python",
   "nbconvert_exporter": "python",
   "pygments_lexer": "ipython3",
   "version": "3.10.0"
  },
  "orig_nbformat": 4
 },
 "nbformat": 4,
 "nbformat_minor": 2
}
